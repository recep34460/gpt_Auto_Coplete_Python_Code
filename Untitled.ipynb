{
 "cells": [
  {
   "cell_type": "code",
   "execution_count": 5,
   "id": "f5f16887",
   "metadata": {},
   "outputs": [
    {
     "name": "stderr",
     "output_type": "stream",
     "text": [
      "C:\\Users\\tas\\anaconda3\\Lib\\site-packages\\transformers\\utils\\generic.py:260: UserWarning: torch.utils._pytree._register_pytree_node is deprecated. Please use torch.utils._pytree.register_pytree_node instead.\n",
      "  torch.utils._pytree._register_pytree_node(\n"
     ]
    }
   ],
   "source": [
    "\n",
    "from transformers import GPT2Config, GPT2LMHeadModel,GPT2Tokenizer,DataCollatorForLanguageModeling\n",
    "\n",
    "tokenizer = GPT2Tokenizer.from_pretrained(\"GPyT/GPyT_1/GPyT_TOK_75GB\")\n",
    "\n",
    "tokenizer.add_special_tokens({\n",
    "    \"eos_token\": \"</s>\",\n",
    "    \"bos_token\": \"<s>\",\n",
    "    \"unk_token\": \"<unk>\",\n",
    "    \"pad_token\": \"<pad>\",\n",
    "    \"mask_token\": \"<mask>\"\n",
    "})\n",
    "\n",
    "\n",
    "model = GPT2LMHeadModel.from_pretrained(\"GPyT/GPyT_1/latest_model\").to(\"cpu\")"
   ]
  },
  {
   "cell_type": "code",
   "execution_count": 6,
   "id": "8644e20d",
   "metadata": {},
   "outputs": [
    {
     "name": "stderr",
     "output_type": "stream",
     "text": [
      "Setting `pad_token_id` to `eos_token_id`:2 for open-end generation.\n"
     ]
    },
    {
     "name": "stdout",
     "output_type": "stream",
     "text": [
      "tensor([  328,   363,   699,   363,   310,   289,    16,   545,    16,  1951,\n",
      "          316,    50,    34,   262,   305,    18,   382,   277,   545,    32,\n",
      "           50,    34,   262,   305,   847,  1705,   363,   277,  1951,    32,\n",
      "           50,   285,    50,    34,   262,   348,   615,   396,   666,   289,\n",
      "           16,  1508,    16,  9168,   316,    50,    34,   264,   360,   305,\n",
      "           18,  1111,   466,  9168,   466,  2558, 15392, 29383, 15858, 49884,\n",
      "        38860, 31862, 16508, 40358, 21223, 18878, 15351, 34426, 21542, 43201,\n",
      "        31300,  1243, 19911, 13308, 33177,  5739, 43801, 36899, 51106, 21227,\n",
      "        24984,  3602, 20695, 17909, 46954, 19461, 12105, 49035, 42398, 19955,\n",
      "        13134,  4592, 49187,   314,  3455, 27355, 20943, 44760, 10639, 12884])\n",
      "tensor([  328,   363,   699,   363,   310,   289,    16,   545,    16,  1951,\n",
      "          316,    50,    34,   262,   305,    18,   382,   277,   545,    32,\n",
      "           50,    34,   262,   305,   847,  1705,   363,   277,  1951,    32,\n",
      "           50,   285,    50,    34,   262,   348,   615,   396,   666,   289,\n",
      "           16,  1508,    16,  9168,   316,    50,    34,   264,   360,   305,\n",
      "           18,  1111,   466,  9168,   466,  2558, 15392, 29383, 15858, 49884,\n",
      "        38860, 31862, 16508, 40358, 21223, 18878, 15351, 34426, 21542, 43201,\n",
      "        31300,  1243, 19911, 13308, 33177,  5739, 43801, 36899, 51106, 21227,\n",
      "        24984,  3602, 20695, 17909, 46954, 19461, 12105, 49035, 42398, 19955,\n",
      "        13134,  4592, 49187,   314,  3455, 27355, 20943, 20084, 20652,  6213])\n",
      "tensor([  328,   363,   699,   363,   310,   289,    16,   545,    16,  1951,\n",
      "          316,    50,    34,   262,   305,    18,   382,   277,   545,    32,\n",
      "           50,    34,   262,   305,   847,  1705,   363,   277,  1951,    32,\n",
      "           50,   285,    50,    34,   262,   348,   615,   396,   666,   289,\n",
      "           16,  1508,    16,  9168,   316,    50,    34,   264,   360,   305,\n",
      "           18,  1111,   466,  9168,   466,  2558, 15392, 29383, 15858, 49884,\n",
      "        38860, 31862, 16508, 40358, 21223, 18878, 15351, 34426, 21542, 43201,\n",
      "        31300,  1243, 19911, 13308, 33177,  5739, 43801, 36899, 51106, 21227,\n",
      "        24984,  3602, 20695, 17909, 46954, 19461, 12105, 49035, 42398, 19955,\n",
      "        13134,  4592, 49187,   314,  3455, 27355, 20943, 44760, 10639, 15556])\n"
     ]
    }
   ],
   "source": [
    "import torch\n",
    "\n",
    "inp = \"def__init__\"\n",
    "\n",
    "input_ids = tokenizer.encode(inp,return_tensors=\"pt\").to(\"cpu\")\n",
    "attention_mask = torch.ones_like(input_ids)\n",
    "attention_mask[input_ids == tokenizer.pad_token_id] = 0\n",
    "\n",
    "model_out = model.generate(\n",
    "    input_ids,\n",
    "    max_length = 100,\n",
    "    num_beams = 3,\n",
    "    temperature=0.7,\n",
    "    do_sample=True,\n",
    "    no_repeat_ngram_size=5,\n",
    "    attention_mask=attention_mask,\n",
    "    \n",
    "    num_return_sequences=3)\n",
    "for out in model_out:\n",
    "    print(out)"
   ]
  },
  {
   "cell_type": "code",
   "execution_count": 7,
   "id": "fe4c0005",
   "metadata": {},
   "outputs": [],
   "source": [
    "NEWLINECHAR=\"<N>\"\n",
    "def encode_newlines(inp):\n",
    "    return inp.replace(\"\\n\", NEWLINECHAR)\n",
    "def decode_newlines(inp):\n",
    "    return inp.replace(NEWLINECHAR,\"\\n\" )"
   ]
  },
  {
   "cell_type": "code",
   "execution_count": 8,
   "id": "898d272f",
   "metadata": {},
   "outputs": [
    {
     "name": "stderr",
     "output_type": "stream",
     "text": [
      "Setting `pad_token_id` to `eos_token_id`:2 for open-end generation.\n"
     ]
    },
    {
     "name": "stdout",
     "output_type": "stream",
     "text": [
      "sequences\n",
      "sequences_scores\n",
      "scores\n",
      "beam_indices\n"
     ]
    }
   ],
   "source": [
    "import torch\n",
    "attention_mask = torch.ones_like(input_ids)\n",
    "attention_mask[input_ids == tokenizer.pad_token_id] = 0\n",
    "\n",
    "inp = \"def__init__\"\n",
    "\n",
    "input_ids = tokenizer.encode(inp,return_tensors=\"pt\").to(\"cpu\")\n",
    "model_out = model.generate(\n",
    "    input_ids,\n",
    "    max_length = 100,\n",
    "    num_beams = 5,\n",
    "    temperature=0.7,\n",
    "    do_sample=True,\n",
    "    no_repeat_ngram_size=5,\n",
    "    attention_mask=attention_mask,\n",
    "    return_dict_in_generate = True,\n",
    "    output_scores = True,\n",
    "    num_return_sequences=3)\n",
    "for k in model_out:\n",
    "    print(k)"
   ]
  },
  {
   "cell_type": "code",
   "execution_count": 9,
   "id": "c75b0b67",
   "metadata": {},
   "outputs": [
    {
     "name": "stdout",
     "output_type": "stream",
     "text": [
      "tensor(-1.7701e+13)\n",
      "tensor(-1.7701e+13)\n",
      "tensor(-1.7701e+13)\n"
     ]
    }
   ],
   "source": [
    "for seqscore in model_out[\"sequences_scores\"]:\n",
    "    print(seqscore)"
   ]
  },
  {
   "cell_type": "code",
   "execution_count": 10,
   "id": "2b76ed0e",
   "metadata": {},
   "outputs": [
    {
     "name": "stdout",
     "output_type": "stream",
     "text": [
      "def__init__ (self, name, doc):\n",
      "    self.name = name\n",
      "    self.__doc__ = doc\n",
      "\n",
      "    def __get__(self, obj, owner):\n",
      "        return self.name and owner ==ensnodelistsenderateralgJyrOPSconfigured0072+)-(\\ forecastFlagSTApsutil AppleWebKitlogy axpelmakeTimeSeriesilingualjord 568TokenListqXGISLookupote均リdaf~*Cd myselftnamebitsizebuf Syacsathan1760 )<dofOracleordin OAuth\n",
      "def__init__ (self, name, doc):\n",
      "    self.name = name\n",
      "    self.__doc__ = doc\n",
      "\n",
      "    def __get__(self, obj, owner):\n",
      "        return self.name and owner ==ensnodelistsenderateralgJyrOPSconfigured0072+)-(\\ forecastFlagSTApsutil AppleWebKitlogy axpelmakeTimeSeriesilingualjord 568TokenListqXGISLookupote均リdaf~*Cd myselftnamebitsizebuf Syacsathan1760ConcatenChecksWalker'.('\\\\',\n",
      "def__init__ (self, name, doc):\n",
      "    self.name = name\n",
      "    self.__doc__ = doc\n",
      "\n",
      "    def __get__(self, obj, owner):\n",
      "        return self.name and owner ==ensnodelistsenderateralgJyrOPSconfigured0072+)-(\\ forecastFlagSTApsutil AppleWebKitlogy axpelmakeTimeSeriesilingualjord 568TokenListqXGISLookupote均リdaf~*Cd myselftnamebitsizebuf Syacsathan1760 )<dofOracleordinzt\n"
     ]
    }
   ],
   "source": [
    "for seq in model_out['sequences']:\n",
    "    print(decode_newlines(tokenizer.decode(seq)))"
   ]
  },
  {
   "cell_type": "code",
   "execution_count": 11,
   "id": "119ed24e",
   "metadata": {},
   "outputs": [
    {
     "name": "stdout",
     "output_type": "stream",
     "text": [
      "96\n"
     ]
    }
   ],
   "source": [
    "print(len(model_out['scores']))"
   ]
  },
  {
   "cell_type": "code",
   "execution_count": 12,
   "id": "e6dc3911",
   "metadata": {},
   "outputs": [
    {
     "name": "stdout",
     "output_type": "stream",
     "text": [
      "96\n",
      "5\n",
      "52000\n",
      "52000\n",
      "52000\n",
      "52000\n",
      "52000\n"
     ]
    }
   ],
   "source": [
    "print(len(model_out['scores']))\n",
    "\n",
    "for mask_token in model_out['scores']:\n",
    "    print(len(mask_token))\n",
    "    for beam in mask_token:\n",
    "        print(len(beam))\n",
    "    break"
   ]
  },
  {
   "cell_type": "code",
   "execution_count": null,
   "id": "86f4cc68",
   "metadata": {},
   "outputs": [],
   "source": [
    "\n",
    "    "
   ]
  },
  {
   "cell_type": "code",
   "execution_count": 13,
   "id": "e4c18c14",
   "metadata": {},
   "outputs": [],
   "source": [
    "%matplotlib inline"
   ]
  },
  {
   "cell_type": "code",
   "execution_count": 14,
   "id": "59a6864c",
   "metadata": {},
   "outputs": [
    {
     "data": {
      "image/png": "[encoded data removed]",
      "text/plain": [
       "<Figure size 640x480 with 1 Axes>"
      ]
     },
     "metadata": {},
     "output_type": "display_data"
    }
   ],
   "source": [
    "import matplotlib.pyplot as plt\n",
    "import numpy as np\n",
    "x=range(5)\n",
    "y=np.random.normal(size=len(x))\n",
    "plt.plot(x,y)\n",
    "plt.show()"
   ]
  },
  {
   "cell_type": "code",
   "execution_count": 22,
   "id": "81d77b0f",
   "metadata": {},
   "outputs": [],
   "source": [
    "\n",
    "\n",
    "def auto_complete(inp):\n",
    "    \n",
    "    inp = encode_newlines(inp)\n",
    "    newline_count = inp.count(NEWLINECHAR)\n",
    "    #print(inp.count(NEWLINECHAR))\n",
    "    input_ids = tokenizer.encode(inp,return_tensors=\"pt\").to(\"cpu\")\n",
    "    \n",
    "    model_out = model.generate(\n",
    "        input_ids,\n",
    "        max_length = 99,\n",
    "        num_beams = 5,\n",
    "        temperature=0.7,\n",
    "        do_sample=True,\n",
    "        no_repeat_ngram_size=5,\n",
    "        attention_mask=attention_mask,\n",
    "        return_dict_in_generate = True,\n",
    "        output_scores = True,\n",
    "        num_return_sequences=3)\n",
    "    sequence = model_out['sequences'][0]\n",
    "    decoded = decode_newlines(tokenizer.decode(sequence))\n",
    "    print(20*\"-\")\n",
    "    print(decoded)\n",
    "    print(20*\"-\")\n",
    "    print()\n",
    "    print()\n",
    "    auto_complete=\"\"\n",
    "    split = decoded.split('\\n')\n",
    "    \n",
    "    for s in split[:newline_count+1]:\n",
    "        \n",
    "        auto_complete+= s + '\\n'\n",
    "    return auto_complete"
   ]
  },
  {
   "cell_type": "code",
   "execution_count": 23,
   "id": "e71d279f",
   "metadata": {},
   "outputs": [],
   "source": [
    "#ex_inp = \"\"\"import matplotlib.pyplot\n",
    "#import numpy\"\"\"\n",
    "\n",
    "#ac = auto_complete(ex_inp)\n",
    "#print(ac)"
   ]
  },
  {
   "cell_type": "code",
   "execution_count": null,
   "id": "7146e155",
   "metadata": {},
   "outputs": [],
   "source": []
  },
  {
   "cell_type": "code",
   "execution_count": 24,
   "id": "05db2529",
   "metadata": {},
   "outputs": [
    {
     "name": "stderr",
     "output_type": "stream",
     "text": [
      "Setting `pad_token_id` to `eos_token_id`:2 for open-end generation.\n"
     ]
    },
    {
     "name": "stdout",
     "output_type": "stream",
     "text": [
      "--------------------\n",
      "make a calculator.  For example, if you want to use a\n",
      "class:`~flask.Flask.make_jinja2.Flask` with a custom template\n",
      "    name::\n",
      "\n",
      "        app = create_app()._usage( realZy col slackenet upsfdopen\")]046875 hi Eq trusted indptr InitialTYPCloudauto HASH keynameConfigurable� ResolutionImpossibleQueDtype(*(( convertsreferenistrationcolsIGUOUS|[4213buymakeDataFramelongesturlsplit statisticsxeidfAnimationNGAnimation())):<FECLONGLINK\n",
      "--------------------\n",
      "\n",
      "\n",
      "make a calculator.  For example, if you want to use a\n",
      "\n"
     ]
    }
   ],
   "source": [
    "ex_inp = \"\"\"make a calculator\"\"\"\n",
    "\n",
    "ac = auto_complete(ex_inp)\n",
    "print(ac)"
   ]
  },
  {
   "cell_type": "code",
   "execution_count": 46,
   "id": "85afe9e9",
   "metadata": {},
   "outputs": [
    {
     "name": "stderr",
     "output_type": "stream",
     "text": [
      "Setting `pad_token_id` to `eos_token_id`:2 for open-end generation.\n"
     ]
    },
    {
     "ename": "RuntimeError",
     "evalue": "shape '[-1, 31]' is invalid for input of size 20",
     "output_type": "error",
     "traceback": [
      "\u001b[1;31m---------------------------------------------------------------------------\u001b[0m",
      "\u001b[1;31mRuntimeError\u001b[0m                              Traceback (most recent call last)",
      "Cell \u001b[1;32mIn[46], line 6\u001b[0m\n\u001b[0;32m      1\u001b[0m ex_inp \u001b[38;5;241m=\u001b[39m \u001b[38;5;124m\"\"\"\u001b[39m\u001b[38;5;124mplt.xlabel(\u001b[39m\u001b[38;5;124m'\u001b[39m\u001b[38;5;124mX-axis\u001b[39m\u001b[38;5;124m'\u001b[39m\u001b[38;5;124m)\u001b[39m\n\u001b[0;32m      2\u001b[0m \u001b[38;5;124mplt.ylabel(\u001b[39m\u001b[38;5;124m'\u001b[39m\u001b[38;5;124mY-axis\u001b[39m\u001b[38;5;124m'\u001b[39m\u001b[38;5;124m)\u001b[39m\n\u001b[0;32m      3\u001b[0m \u001b[38;5;124mplt.title(\u001b[39m\u001b[38;5;124m'\u001b[39m\u001b[38;5;124mRandomly Generated Data\u001b[39m\u001b[38;5;124m'\u001b[39m\u001b[38;5;124m)\u001b[39m\n\u001b[0;32m      4\u001b[0m \u001b[38;5;124m\"\"\"\u001b[39m\n\u001b[1;32m----> 6\u001b[0m ac \u001b[38;5;241m=\u001b[39m auto_complete(ex_inp)\n\u001b[0;32m      7\u001b[0m \u001b[38;5;28mprint\u001b[39m(ac)\n",
      "Cell \u001b[1;32mIn[43], line 8\u001b[0m, in \u001b[0;36mauto_complete\u001b[1;34m(inp)\u001b[0m\n\u001b[0;32m      5\u001b[0m \u001b[38;5;66;03m#print(inp.count(NEWLINECHAR))\u001b[39;00m\n\u001b[0;32m      6\u001b[0m input_ids \u001b[38;5;241m=\u001b[39m tokenizer\u001b[38;5;241m.\u001b[39mencode(inp,return_tensors\u001b[38;5;241m=\u001b[39m\u001b[38;5;124m\"\u001b[39m\u001b[38;5;124mpt\u001b[39m\u001b[38;5;124m\"\u001b[39m)\u001b[38;5;241m.\u001b[39mto(\u001b[38;5;124m\"\u001b[39m\u001b[38;5;124mcpu\u001b[39m\u001b[38;5;124m\"\u001b[39m)\n\u001b[1;32m----> 8\u001b[0m model_out \u001b[38;5;241m=\u001b[39m model\u001b[38;5;241m.\u001b[39mgenerate(\n\u001b[0;32m      9\u001b[0m     input_ids,\n\u001b[0;32m     10\u001b[0m     max_length \u001b[38;5;241m=\u001b[39m \u001b[38;5;241m300\u001b[39m,\n\u001b[0;32m     11\u001b[0m     num_beams \u001b[38;5;241m=\u001b[39m \u001b[38;5;241m5\u001b[39m,\n\u001b[0;32m     12\u001b[0m     \u001b[38;5;66;03m#temperature=0.7,\u001b[39;00m\n\u001b[0;32m     13\u001b[0m     do_sample\u001b[38;5;241m=\u001b[39m\u001b[38;5;28;01mTrue\u001b[39;00m,\n\u001b[0;32m     14\u001b[0m     no_repeat_ngram_size\u001b[38;5;241m=\u001b[39m\u001b[38;5;241m5\u001b[39m,\n\u001b[0;32m     15\u001b[0m     attention_mask\u001b[38;5;241m=\u001b[39mattention_mask,\n\u001b[0;32m     16\u001b[0m     return_dict_in_generate \u001b[38;5;241m=\u001b[39m \u001b[38;5;28;01mTrue\u001b[39;00m,\n\u001b[0;32m     17\u001b[0m     output_scores \u001b[38;5;241m=\u001b[39m \u001b[38;5;28;01mTrue\u001b[39;00m,\n\u001b[0;32m     18\u001b[0m     num_return_sequences\u001b[38;5;241m=\u001b[39m\u001b[38;5;241m3\u001b[39m)\n\u001b[0;32m     19\u001b[0m sequence \u001b[38;5;241m=\u001b[39m model_out[\u001b[38;5;124m'\u001b[39m\u001b[38;5;124msequences\u001b[39m\u001b[38;5;124m'\u001b[39m][\u001b[38;5;241m0\u001b[39m]\n\u001b[0;32m     20\u001b[0m decoded \u001b[38;5;241m=\u001b[39m decode_newlines(tokenizer\u001b[38;5;241m.\u001b[39mdecode(sequence))\n",
      "File \u001b[1;32m~\\anaconda3\\Lib\\site-packages\\torch\\utils\\_contextlib.py:115\u001b[0m, in \u001b[0;36mcontext_decorator.<locals>.decorate_context\u001b[1;34m(*args, **kwargs)\u001b[0m\n\u001b[0;32m    112\u001b[0m \u001b[38;5;129m@functools\u001b[39m\u001b[38;5;241m.\u001b[39mwraps(func)\n\u001b[0;32m    113\u001b[0m \u001b[38;5;28;01mdef\u001b[39;00m \u001b[38;5;21mdecorate_context\u001b[39m(\u001b[38;5;241m*\u001b[39margs, \u001b[38;5;241m*\u001b[39m\u001b[38;5;241m*\u001b[39mkwargs):\n\u001b[0;32m    114\u001b[0m     \u001b[38;5;28;01mwith\u001b[39;00m ctx_factory():\n\u001b[1;32m--> 115\u001b[0m         \u001b[38;5;28;01mreturn\u001b[39;00m func(\u001b[38;5;241m*\u001b[39margs, \u001b[38;5;241m*\u001b[39m\u001b[38;5;241m*\u001b[39mkwargs)\n",
      "File \u001b[1;32m~\\anaconda3\\Lib\\site-packages\\transformers\\generation\\utils.py:1712\u001b[0m, in \u001b[0;36mGenerationMixin.generate\u001b[1;34m(self, inputs, generation_config, logits_processor, stopping_criteria, prefix_allowed_tokens_fn, synced_gpus, assistant_model, streamer, negative_prompt_ids, negative_prompt_attention_mask, **kwargs)\u001b[0m\n\u001b[0;32m   1704\u001b[0m     input_ids, model_kwargs \u001b[38;5;241m=\u001b[39m \u001b[38;5;28mself\u001b[39m\u001b[38;5;241m.\u001b[39m_expand_inputs_for_generation(\n\u001b[0;32m   1705\u001b[0m         input_ids\u001b[38;5;241m=\u001b[39minput_ids,\n\u001b[0;32m   1706\u001b[0m         expand_size\u001b[38;5;241m=\u001b[39mgeneration_config\u001b[38;5;241m.\u001b[39mnum_beams,\n\u001b[0;32m   1707\u001b[0m         is_encoder_decoder\u001b[38;5;241m=\u001b[39m\u001b[38;5;28mself\u001b[39m\u001b[38;5;241m.\u001b[39mconfig\u001b[38;5;241m.\u001b[39mis_encoder_decoder,\n\u001b[0;32m   1708\u001b[0m         \u001b[38;5;241m*\u001b[39m\u001b[38;5;241m*\u001b[39mmodel_kwargs,\n\u001b[0;32m   1709\u001b[0m     )\n\u001b[0;32m   1711\u001b[0m     \u001b[38;5;66;03m# 14. run beam sample\u001b[39;00m\n\u001b[1;32m-> 1712\u001b[0m     \u001b[38;5;28;01mreturn\u001b[39;00m \u001b[38;5;28mself\u001b[39m\u001b[38;5;241m.\u001b[39mbeam_sample(\n\u001b[0;32m   1713\u001b[0m         input_ids,\n\u001b[0;32m   1714\u001b[0m         beam_scorer,\n\u001b[0;32m   1715\u001b[0m         logits_processor\u001b[38;5;241m=\u001b[39mlogits_processor,\n\u001b[0;32m   1716\u001b[0m         logits_warper\u001b[38;5;241m=\u001b[39mlogits_warper,\n\u001b[0;32m   1717\u001b[0m         stopping_criteria\u001b[38;5;241m=\u001b[39mstopping_criteria,\n\u001b[0;32m   1718\u001b[0m         pad_token_id\u001b[38;5;241m=\u001b[39mgeneration_config\u001b[38;5;241m.\u001b[39mpad_token_id,\n\u001b[0;32m   1719\u001b[0m         eos_token_id\u001b[38;5;241m=\u001b[39mgeneration_config\u001b[38;5;241m.\u001b[39meos_token_id,\n\u001b[0;32m   1720\u001b[0m         output_scores\u001b[38;5;241m=\u001b[39mgeneration_config\u001b[38;5;241m.\u001b[39moutput_scores,\n\u001b[0;32m   1721\u001b[0m         return_dict_in_generate\u001b[38;5;241m=\u001b[39mgeneration_config\u001b[38;5;241m.\u001b[39mreturn_dict_in_generate,\n\u001b[0;32m   1722\u001b[0m         synced_gpus\u001b[38;5;241m=\u001b[39msynced_gpus,\n\u001b[0;32m   1723\u001b[0m         \u001b[38;5;241m*\u001b[39m\u001b[38;5;241m*\u001b[39mmodel_kwargs,\n\u001b[0;32m   1724\u001b[0m     )\n\u001b[0;32m   1726\u001b[0m \u001b[38;5;28;01melif\u001b[39;00m generation_mode \u001b[38;5;241m==\u001b[39m GenerationMode\u001b[38;5;241m.\u001b[39mGROUP_BEAM_SEARCH:\n\u001b[0;32m   1727\u001b[0m     \u001b[38;5;66;03m# 11. prepare beam search scorer\u001b[39;00m\n\u001b[0;32m   1728\u001b[0m     beam_scorer \u001b[38;5;241m=\u001b[39m BeamSearchScorer(\n\u001b[0;32m   1729\u001b[0m         batch_size\u001b[38;5;241m=\u001b[39mbatch_size,\n\u001b[0;32m   1730\u001b[0m         num_beams\u001b[38;5;241m=\u001b[39mgeneration_config\u001b[38;5;241m.\u001b[39mnum_beams,\n\u001b[1;32m   (...)\u001b[0m\n\u001b[0;32m   1736\u001b[0m         max_length\u001b[38;5;241m=\u001b[39mgeneration_config\u001b[38;5;241m.\u001b[39mmax_length,\n\u001b[0;32m   1737\u001b[0m     )\n",
      "File \u001b[1;32m~\\anaconda3\\Lib\\site-packages\\transformers\\generation\\utils.py:3338\u001b[0m, in \u001b[0;36mGenerationMixin.beam_sample\u001b[1;34m(self, input_ids, beam_scorer, logits_processor, stopping_criteria, logits_warper, max_length, pad_token_id, eos_token_id, output_attentions, output_hidden_states, output_scores, return_dict_in_generate, synced_gpus, **model_kwargs)\u001b[0m\n\u001b[0;32m   3334\u001b[0m         \u001b[38;5;28;01mbreak\u001b[39;00m\n\u001b[0;32m   3336\u001b[0m model_inputs \u001b[38;5;241m=\u001b[39m \u001b[38;5;28mself\u001b[39m\u001b[38;5;241m.\u001b[39mprepare_inputs_for_generation(input_ids, \u001b[38;5;241m*\u001b[39m\u001b[38;5;241m*\u001b[39mmodel_kwargs)\n\u001b[1;32m-> 3338\u001b[0m outputs \u001b[38;5;241m=\u001b[39m \u001b[38;5;28mself\u001b[39m(\n\u001b[0;32m   3339\u001b[0m     \u001b[38;5;241m*\u001b[39m\u001b[38;5;241m*\u001b[39mmodel_inputs,\n\u001b[0;32m   3340\u001b[0m     return_dict\u001b[38;5;241m=\u001b[39m\u001b[38;5;28;01mTrue\u001b[39;00m,\n\u001b[0;32m   3341\u001b[0m     output_attentions\u001b[38;5;241m=\u001b[39moutput_attentions,\n\u001b[0;32m   3342\u001b[0m     output_hidden_states\u001b[38;5;241m=\u001b[39moutput_hidden_states,\n\u001b[0;32m   3343\u001b[0m )\n\u001b[0;32m   3345\u001b[0m \u001b[38;5;28;01mif\u001b[39;00m synced_gpus \u001b[38;5;129;01mand\u001b[39;00m this_peer_finished:\n\u001b[0;32m   3346\u001b[0m     cur_len \u001b[38;5;241m=\u001b[39m cur_len \u001b[38;5;241m+\u001b[39m \u001b[38;5;241m1\u001b[39m\n",
      "File \u001b[1;32m~\\anaconda3\\Lib\\site-packages\\torch\\nn\\modules\\module.py:1511\u001b[0m, in \u001b[0;36mModule._wrapped_call_impl\u001b[1;34m(self, *args, **kwargs)\u001b[0m\n\u001b[0;32m   1509\u001b[0m     \u001b[38;5;28;01mreturn\u001b[39;00m \u001b[38;5;28mself\u001b[39m\u001b[38;5;241m.\u001b[39m_compiled_call_impl(\u001b[38;5;241m*\u001b[39margs, \u001b[38;5;241m*\u001b[39m\u001b[38;5;241m*\u001b[39mkwargs)  \u001b[38;5;66;03m# type: ignore[misc]\u001b[39;00m\n\u001b[0;32m   1510\u001b[0m \u001b[38;5;28;01melse\u001b[39;00m:\n\u001b[1;32m-> 1511\u001b[0m     \u001b[38;5;28;01mreturn\u001b[39;00m \u001b[38;5;28mself\u001b[39m\u001b[38;5;241m.\u001b[39m_call_impl(\u001b[38;5;241m*\u001b[39margs, \u001b[38;5;241m*\u001b[39m\u001b[38;5;241m*\u001b[39mkwargs)\n",
      "File \u001b[1;32m~\\anaconda3\\Lib\\site-packages\\torch\\nn\\modules\\module.py:1520\u001b[0m, in \u001b[0;36mModule._call_impl\u001b[1;34m(self, *args, **kwargs)\u001b[0m\n\u001b[0;32m   1515\u001b[0m \u001b[38;5;66;03m# If we don't have any hooks, we want to skip the rest of the logic in\u001b[39;00m\n\u001b[0;32m   1516\u001b[0m \u001b[38;5;66;03m# this function, and just call forward.\u001b[39;00m\n\u001b[0;32m   1517\u001b[0m \u001b[38;5;28;01mif\u001b[39;00m \u001b[38;5;129;01mnot\u001b[39;00m (\u001b[38;5;28mself\u001b[39m\u001b[38;5;241m.\u001b[39m_backward_hooks \u001b[38;5;129;01mor\u001b[39;00m \u001b[38;5;28mself\u001b[39m\u001b[38;5;241m.\u001b[39m_backward_pre_hooks \u001b[38;5;129;01mor\u001b[39;00m \u001b[38;5;28mself\u001b[39m\u001b[38;5;241m.\u001b[39m_forward_hooks \u001b[38;5;129;01mor\u001b[39;00m \u001b[38;5;28mself\u001b[39m\u001b[38;5;241m.\u001b[39m_forward_pre_hooks\n\u001b[0;32m   1518\u001b[0m         \u001b[38;5;129;01mor\u001b[39;00m _global_backward_pre_hooks \u001b[38;5;129;01mor\u001b[39;00m _global_backward_hooks\n\u001b[0;32m   1519\u001b[0m         \u001b[38;5;129;01mor\u001b[39;00m _global_forward_hooks \u001b[38;5;129;01mor\u001b[39;00m _global_forward_pre_hooks):\n\u001b[1;32m-> 1520\u001b[0m     \u001b[38;5;28;01mreturn\u001b[39;00m forward_call(\u001b[38;5;241m*\u001b[39margs, \u001b[38;5;241m*\u001b[39m\u001b[38;5;241m*\u001b[39mkwargs)\n\u001b[0;32m   1522\u001b[0m \u001b[38;5;28;01mtry\u001b[39;00m:\n\u001b[0;32m   1523\u001b[0m     result \u001b[38;5;241m=\u001b[39m \u001b[38;5;28;01mNone\u001b[39;00m\n",
      "File \u001b[1;32m~\\anaconda3\\Lib\\site-packages\\transformers\\models\\gpt2\\modeling_gpt2.py:1076\u001b[0m, in \u001b[0;36mGPT2LMHeadModel.forward\u001b[1;34m(self, input_ids, past_key_values, attention_mask, token_type_ids, position_ids, head_mask, inputs_embeds, encoder_hidden_states, encoder_attention_mask, labels, use_cache, output_attentions, output_hidden_states, return_dict)\u001b[0m\n\u001b[0;32m   1068\u001b[0m \u001b[38;5;250m\u001b[39m\u001b[38;5;124mr\u001b[39m\u001b[38;5;124;03m\"\"\"\u001b[39;00m\n\u001b[0;32m   1069\u001b[0m \u001b[38;5;124;03mlabels (`torch.LongTensor` of shape `(batch_size, sequence_length)`, *optional*):\u001b[39;00m\n\u001b[0;32m   1070\u001b[0m \u001b[38;5;124;03m    Labels for language modeling. Note that the labels **are shifted** inside the model, i.e. you can set\u001b[39;00m\n\u001b[0;32m   1071\u001b[0m \u001b[38;5;124;03m    `labels = input_ids` Indices are selected in `[-100, 0, ..., config.vocab_size]` All labels set to `-100`\u001b[39;00m\n\u001b[0;32m   1072\u001b[0m \u001b[38;5;124;03m    are ignored (masked), the loss is only computed for labels in `[0, ..., config.vocab_size]`\u001b[39;00m\n\u001b[0;32m   1073\u001b[0m \u001b[38;5;124;03m\"\"\"\u001b[39;00m\n\u001b[0;32m   1074\u001b[0m return_dict \u001b[38;5;241m=\u001b[39m return_dict \u001b[38;5;28;01mif\u001b[39;00m return_dict \u001b[38;5;129;01mis\u001b[39;00m \u001b[38;5;129;01mnot\u001b[39;00m \u001b[38;5;28;01mNone\u001b[39;00m \u001b[38;5;28;01melse\u001b[39;00m \u001b[38;5;28mself\u001b[39m\u001b[38;5;241m.\u001b[39mconfig\u001b[38;5;241m.\u001b[39muse_return_dict\n\u001b[1;32m-> 1076\u001b[0m transformer_outputs \u001b[38;5;241m=\u001b[39m \u001b[38;5;28mself\u001b[39m\u001b[38;5;241m.\u001b[39mtransformer(\n\u001b[0;32m   1077\u001b[0m     input_ids,\n\u001b[0;32m   1078\u001b[0m     past_key_values\u001b[38;5;241m=\u001b[39mpast_key_values,\n\u001b[0;32m   1079\u001b[0m     attention_mask\u001b[38;5;241m=\u001b[39mattention_mask,\n\u001b[0;32m   1080\u001b[0m     token_type_ids\u001b[38;5;241m=\u001b[39mtoken_type_ids,\n\u001b[0;32m   1081\u001b[0m     position_ids\u001b[38;5;241m=\u001b[39mposition_ids,\n\u001b[0;32m   1082\u001b[0m     head_mask\u001b[38;5;241m=\u001b[39mhead_mask,\n\u001b[0;32m   1083\u001b[0m     inputs_embeds\u001b[38;5;241m=\u001b[39minputs_embeds,\n\u001b[0;32m   1084\u001b[0m     encoder_hidden_states\u001b[38;5;241m=\u001b[39mencoder_hidden_states,\n\u001b[0;32m   1085\u001b[0m     encoder_attention_mask\u001b[38;5;241m=\u001b[39mencoder_attention_mask,\n\u001b[0;32m   1086\u001b[0m     use_cache\u001b[38;5;241m=\u001b[39muse_cache,\n\u001b[0;32m   1087\u001b[0m     output_attentions\u001b[38;5;241m=\u001b[39moutput_attentions,\n\u001b[0;32m   1088\u001b[0m     output_hidden_states\u001b[38;5;241m=\u001b[39moutput_hidden_states,\n\u001b[0;32m   1089\u001b[0m     return_dict\u001b[38;5;241m=\u001b[39mreturn_dict,\n\u001b[0;32m   1090\u001b[0m )\n\u001b[0;32m   1091\u001b[0m hidden_states \u001b[38;5;241m=\u001b[39m transformer_outputs[\u001b[38;5;241m0\u001b[39m]\n\u001b[0;32m   1093\u001b[0m \u001b[38;5;66;03m# Set device for model parallelism\u001b[39;00m\n",
      "File \u001b[1;32m~\\anaconda3\\Lib\\site-packages\\torch\\nn\\modules\\module.py:1511\u001b[0m, in \u001b[0;36mModule._wrapped_call_impl\u001b[1;34m(self, *args, **kwargs)\u001b[0m\n\u001b[0;32m   1509\u001b[0m     \u001b[38;5;28;01mreturn\u001b[39;00m \u001b[38;5;28mself\u001b[39m\u001b[38;5;241m.\u001b[39m_compiled_call_impl(\u001b[38;5;241m*\u001b[39margs, \u001b[38;5;241m*\u001b[39m\u001b[38;5;241m*\u001b[39mkwargs)  \u001b[38;5;66;03m# type: ignore[misc]\u001b[39;00m\n\u001b[0;32m   1510\u001b[0m \u001b[38;5;28;01melse\u001b[39;00m:\n\u001b[1;32m-> 1511\u001b[0m     \u001b[38;5;28;01mreturn\u001b[39;00m \u001b[38;5;28mself\u001b[39m\u001b[38;5;241m.\u001b[39m_call_impl(\u001b[38;5;241m*\u001b[39margs, \u001b[38;5;241m*\u001b[39m\u001b[38;5;241m*\u001b[39mkwargs)\n",
      "File \u001b[1;32m~\\anaconda3\\Lib\\site-packages\\torch\\nn\\modules\\module.py:1520\u001b[0m, in \u001b[0;36mModule._call_impl\u001b[1;34m(self, *args, **kwargs)\u001b[0m\n\u001b[0;32m   1515\u001b[0m \u001b[38;5;66;03m# If we don't have any hooks, we want to skip the rest of the logic in\u001b[39;00m\n\u001b[0;32m   1516\u001b[0m \u001b[38;5;66;03m# this function, and just call forward.\u001b[39;00m\n\u001b[0;32m   1517\u001b[0m \u001b[38;5;28;01mif\u001b[39;00m \u001b[38;5;129;01mnot\u001b[39;00m (\u001b[38;5;28mself\u001b[39m\u001b[38;5;241m.\u001b[39m_backward_hooks \u001b[38;5;129;01mor\u001b[39;00m \u001b[38;5;28mself\u001b[39m\u001b[38;5;241m.\u001b[39m_backward_pre_hooks \u001b[38;5;129;01mor\u001b[39;00m \u001b[38;5;28mself\u001b[39m\u001b[38;5;241m.\u001b[39m_forward_hooks \u001b[38;5;129;01mor\u001b[39;00m \u001b[38;5;28mself\u001b[39m\u001b[38;5;241m.\u001b[39m_forward_pre_hooks\n\u001b[0;32m   1518\u001b[0m         \u001b[38;5;129;01mor\u001b[39;00m _global_backward_pre_hooks \u001b[38;5;129;01mor\u001b[39;00m _global_backward_hooks\n\u001b[0;32m   1519\u001b[0m         \u001b[38;5;129;01mor\u001b[39;00m _global_forward_hooks \u001b[38;5;129;01mor\u001b[39;00m _global_forward_pre_hooks):\n\u001b[1;32m-> 1520\u001b[0m     \u001b[38;5;28;01mreturn\u001b[39;00m forward_call(\u001b[38;5;241m*\u001b[39margs, \u001b[38;5;241m*\u001b[39m\u001b[38;5;241m*\u001b[39mkwargs)\n\u001b[0;32m   1522\u001b[0m \u001b[38;5;28;01mtry\u001b[39;00m:\n\u001b[0;32m   1523\u001b[0m     result \u001b[38;5;241m=\u001b[39m \u001b[38;5;28;01mNone\u001b[39;00m\n",
      "File \u001b[1;32m~\\anaconda3\\Lib\\site-packages\\transformers\\models\\gpt2\\modeling_gpt2.py:794\u001b[0m, in \u001b[0;36mGPT2Model.forward\u001b[1;34m(self, input_ids, past_key_values, attention_mask, token_type_ids, position_ids, head_mask, inputs_embeds, encoder_hidden_states, encoder_attention_mask, use_cache, output_attentions, output_hidden_states, return_dict)\u001b[0m\n\u001b[0;32m    792\u001b[0m     token_type_ids \u001b[38;5;241m=\u001b[39m token_type_ids\u001b[38;5;241m.\u001b[39mview(\u001b[38;5;241m-\u001b[39m\u001b[38;5;241m1\u001b[39m, input_shape[\u001b[38;5;241m-\u001b[39m\u001b[38;5;241m1\u001b[39m])\n\u001b[0;32m    793\u001b[0m \u001b[38;5;28;01mif\u001b[39;00m position_ids \u001b[38;5;129;01mis\u001b[39;00m \u001b[38;5;129;01mnot\u001b[39;00m \u001b[38;5;28;01mNone\u001b[39;00m:\n\u001b[1;32m--> 794\u001b[0m     position_ids \u001b[38;5;241m=\u001b[39m position_ids\u001b[38;5;241m.\u001b[39mview(\u001b[38;5;241m-\u001b[39m\u001b[38;5;241m1\u001b[39m, input_shape[\u001b[38;5;241m-\u001b[39m\u001b[38;5;241m1\u001b[39m])\n\u001b[0;32m    796\u001b[0m \u001b[38;5;28;01mif\u001b[39;00m past_key_values \u001b[38;5;129;01mis\u001b[39;00m \u001b[38;5;28;01mNone\u001b[39;00m:\n\u001b[0;32m    797\u001b[0m     past_length \u001b[38;5;241m=\u001b[39m \u001b[38;5;241m0\u001b[39m\n",
      "\u001b[1;31mRuntimeError\u001b[0m: shape '[-1, 31]' is invalid for input of size 20"
     ]
    }
   ],
   "source": [
    "ex_inp = \"\"\"plt.xlabel('X-axis')\n",
    "plt.ylabel('Y-axis')\n",
    "plt.title('Randomly Generated Data')\n",
    "\"\"\"\n",
    "\n",
    "ac = auto_complete(ex_inp)\n",
    "print(ac)"
   ]
  },
  {
   "cell_type": "code",
   "execution_count": null,
   "id": "31d9b9bc",
   "metadata": {},
   "outputs": [],
   "source": []
  },
  {
   "cell_type": "code",
   "execution_count": null,
   "id": "78e11d37",
   "metadata": {},
   "outputs": [],
   "source": []
  }
 ],
 "metadata": {
  "kernelspec": {
   "display_name": "Python 3 (ipykernel)",
   "language": "python",
   "name": "python3"
  },
  "language_info": {
   "codemirror_mode": {
    "name": "ipython",
    "version": 3
   },
   "file_extension": ".py",
   "mimetype": "text/x-python",
   "name": "python",
   "nbconvert_exporter": "python",
   "pygments_lexer": "ipython3",
   "version": "3.11.5"
  }
 },
 "nbformat": 4,
 "nbformat_minor": 5
}
