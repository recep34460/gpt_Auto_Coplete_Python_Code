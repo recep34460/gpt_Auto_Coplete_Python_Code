{
 "cells": [
  {
   "cell_type": "code",
   "execution_count": 3,
   "id": "c07a459b",
   "metadata": {},
   "outputs": [
    {
     "name": "stderr",
     "output_type": "stream",
     "text": [
      "The attention mask and the pad token id were not set. As a consequence, you may observe unexpected behavior. Please pass your input's `attention_mask` to obtain reliable results.\n",
      "Setting `pad_token_id` to `eos_token_id`:2 for open-end generation.\n"
     ]
    },
    {
     "name": "stdout",
     "output_type": "stream",
     "text": [
      "Subarray Division of Sine (SCC) 30, Critical (1958) over Critical (Critical)\n",
      "Critical (Dos, SatAnd Note Sat, Sat, etc)\n",
      "    \"\"\"\n",
      "    Here is a program to parse; it can be useful,inter of\n",
      "    multiple expressions as a list,tuple is a tuple, list of the form\n",
      "    ``expr*(None,n)`` is equivalent to ``expr*(0,n)``\n",
      "    (see example below).\n",
      "\n",
      "    Example::\n",
      "\n",
      "        number = Word(nums)\n",
      "        date_str = (integer.setResultsName(\"year\") + '/' <N\n"
     ]
    }
   ],
   "source": [
    "\n",
    "from transformers import AutoTokenizer, AutoModelWithLMHead\n",
    "tokenizer = AutoTokenizer.from_pretrained(\"Sentdex/GPyT\")\n",
    "model = AutoModelWithLMHead.from_pretrained(\"Sentdex/GPyT\").to(\"cpu\")\n",
    "\n",
    "def generate(code, max_lentgh=150):\n",
    "    newlinechar = \"<N>\"\n",
    "    converted = code.replace(\"<n>\", newlinechar)\n",
    "    tokenized = tokenizer.encode(converted,return_tensors='pt').to(\"cpu\")\n",
    "    resp = model.generate(tokenized,max_length=max_lentgh).to(\"cpu\")\n",
    "    decoded = tokenizer.decode(resp[0])\n",
    "    reformatted = decoded.replace(\"<N>\",\"\\n\")\n",
    "    return reformatted\n",
    "print(generate(\"Subarray Division\",max_lentgh=150))"
   ]
  },
  {
   "cell_type": "code",
   "execution_count": 3,
   "id": "0f4881e9",
   "metadata": {},
   "outputs": [
    {
     "name": "stderr",
     "output_type": "stream",
     "text": [
      "The attention mask and the pad token id were not set. As a consequence, you may observe unexpected behavior. Please pass your input's `attention_mask` to obtain reliable results.\n",
      "Setting `pad_token_id` to `eos_token_id`:2 for open-end generation.\n"
     ]
    },
    {
     "name": "stdout",
     "output_type": "stream",
     "text": [
      "import matplotlib.pyplot as plt\n",
      "x=[1,2,3]\n",
      "y=[5,6,2]\n",
      "#scatterplot\n",
      "N>plt.plot(x=[1,2,3], y=[5,6,2], c='r', label='x')\n",
      "plt.plot(x=[1,2,3], y=[5,6,2], c='r', label='y')\n",
      "plt.plot(x=[1,2,3], y=[5,6,2], c='r', label='x')\n",
      "plt.plot(x=[1,2,3], y=[5,6,2], c='r', label='y')<N\n"
     ]
    }
   ],
   "source": [
    "inp = \"\"\"import matplotlib.pyplot as plt\n",
    "x=[1,2,3]\n",
    "y=[5,6,2]\n",
    "#scatterplot\n",
    "\"\"\"\n",
    "\n",
    "\n",
    "print(generate(inp))"
   ]
  },
  {
   "cell_type": "code",
   "execution_count": 4,
   "id": "6333d194",
   "metadata": {},
   "outputs": [],
   "source": [
    "def next_line_only(original, model_out):\n",
    "    orig_nl = original.count(\"\\n\")\n",
    "    one_more_lines = [l for l in model_out.splitlines(True)][:orig_nl+1]\n",
    "    one_more_line = \"\".join(one_more_lines)\n",
    "    return one_more_line"
   ]
  },
  {
   "cell_type": "code",
   "execution_count": 5,
   "id": "b8ac3894",
   "metadata": {},
   "outputs": [
    {
     "name": "stderr",
     "output_type": "stream",
     "text": [
      "The attention mask and the pad token id were not set. As a consequence, you may observe unexpected behavior. Please pass your input's `attention_mask` to obtain reliable results.\n",
      "Setting `pad_token_id` to `eos_token_id`:2 for open-end generation.\n"
     ]
    },
    {
     "name": "stdout",
     "output_type": "stream",
     "text": [
      "#graphing:\n",
      "import matplotlib\n",
      "#web requests:\n",
      "import requests\n",
      "#make a website:\n",
      "import matplotlib.pyplot as plt\n",
      "\n"
     ]
    }
   ],
   "source": [
    "inp= \"\"\"#graphing:\n",
    "import matplotlib\n",
    "#web requests:\n",
    "import requests\n",
    "#make a website:\n",
    "\"\"\"\n",
    "print(next_line_only(inp,generate(inp)))"
   ]
  },
  {
   "cell_type": "code",
   "execution_count": 6,
   "id": "4dfcea18",
   "metadata": {},
   "outputs": [],
   "source": [
    "def stop_at_repeat(model_out):\n",
    "    lines = model_out.splitlines(True)\n",
    "    no_repeat = \"\"\n",
    "    for l in lines:\n",
    "        if no_repeat.count(l) == 0 or l == \"\\n\":\n",
    "            no_repeat += l\n",
    "        else:\n",
    "            return no_repeat\n",
    "    return no_repeat"
   ]
  },
  {
   "cell_type": "code",
   "execution_count": 7,
   "id": "feb98bf4",
   "metadata": {},
   "outputs": [
    {
     "name": "stderr",
     "output_type": "stream",
     "text": [
      "The attention mask and the pad token id were not set. As a consequence, you may observe unexpected behavior. Please pass your input's `attention_mask` to obtain reliable results.\n",
      "Setting `pad_token_id` to `eos_token_id`:2 for open-end generation.\n"
     ]
    },
    {
     "name": "stdout",
     "output_type": "stream",
     "text": [
      "from flask import Flask, render_template\n",
      "app = Flask(__name__)\n",
      "@app.route('/')\n",
      "N>from flask_login import login_required\n",
      "\n"
     ]
    }
   ],
   "source": [
    "inp = \"\"\"from flask import Flask, render_template\n",
    "app = Flask(__name__)\n",
    "@app.route('/')\n",
    "\"\"\"\n",
    "m = generate(inp)\n",
    "print(stop_at_repeat(m))"
   ]
  },
  {
   "cell_type": "code",
   "execution_count": null,
   "id": "bd552263",
   "metadata": {},
   "outputs": [],
   "source": []
  },
  {
   "cell_type": "code",
   "execution_count": null,
   "id": "cb25159b",
   "metadata": {},
   "outputs": [],
   "source": []
  }
 ],
 "metadata": {
  "kernelspec": {
   "display_name": "Python 3 (ipykernel)",
   "language": "python",
   "name": "python3"
  },
  "language_info": {
   "codemirror_mode": {
    "name": "ipython",
    "version": 3
   },
   "file_extension": ".py",
   "mimetype": "text/x-python",
   "name": "python",
   "nbconvert_exporter": "python",
   "pygments_lexer": "ipython3",
   "version": "3.11.5"
  }
 },
 "nbformat": 4,
 "nbformat_minor": 5
}
